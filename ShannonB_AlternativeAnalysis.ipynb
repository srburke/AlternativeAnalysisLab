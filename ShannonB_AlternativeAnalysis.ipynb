{
  "nbformat": 4,
  "nbformat_minor": 0,
  "metadata": {
    "colab": {
      "name": "ShannonB_AlternativeAnalysis.ipynb",
      "provenance": []
    },
    "kernelspec": {
      "name": "python3",
      "display_name": "Python 3"
    },
    "language_info": {
      "name": "python"
    }
  },
  "cells": [
    {
      "cell_type": "code",
      "execution_count": 1,
      "metadata": {
        "colab": {
          "base_uri": "https://localhost:8080/"
        },
        "id": "WpbaqR48-vuf",
        "outputId": "933b9531-49e7-4be5-d030-4479ea07c058"
      },
      "outputs": [
        {
          "output_type": "stream",
          "name": "stdout",
          "text": [
            "Empty DataFrame\n",
            "Columns: [criteria, weight, ratingA, ratingB, scoreA, scoreB]\n",
            "Index: []\n"
          ]
        }
      ],
      "source": [
        "import pandas as pd\n",
        "import math\n",
        "\n",
        "#create a dataframe for our alternative analysis matrix\n",
        "AA=pd.DataFrame(columns=['criteria', 'weight', 'ratingA', 'ratingB', 'scoreA', 'scoreB'])\n",
        "print(AA)"
      ]
    },
    {
      "cell_type": "code",
      "source": [
        "#first step: add a list of criteria\n",
        "AA['criteria']=['risk', 'ROI', 'customerSatisfaction', 'feasibility', 'strategicAlignment']\n",
        "print(AA)"
      ],
      "metadata": {
        "colab": {
          "base_uri": "https://localhost:8080/"
        },
        "id": "mcm1Ro6u_Y4f",
        "outputId": "5f765316-eb13-4c93-91a3-333d5bbfdec9"
      },
      "execution_count": 2,
      "outputs": [
        {
          "output_type": "stream",
          "name": "stdout",
          "text": [
            "               criteria weight ratingA ratingB scoreA scoreB\n",
            "0                  risk    NaN     NaN     NaN    NaN    NaN\n",
            "1                   ROI    NaN     NaN     NaN    NaN    NaN\n",
            "2  customerSatisfaction    NaN     NaN     NaN    NaN    NaN\n",
            "3           feasibility    NaN     NaN     NaN    NaN    NaN\n",
            "4    strategicAlignment    NaN     NaN     NaN    NaN    NaN\n"
          ]
        }
      ]
    },
    {
      "cell_type": "code",
      "source": [
        "#second step: identify weights\n",
        "#weights show relative importance of each criterion\n",
        "#they must add up to 1 (or 100 if you use percentages)\n",
        "AA['weight']=[0.1,0.15,0.3,.15,.3]\n",
        "print(AA)"
      ],
      "metadata": {
        "colab": {
          "base_uri": "https://localhost:8080/"
        },
        "id": "h2B-X8FE_zE-",
        "outputId": "6f7c68e7-e4a5-48fa-c5e3-4dd45efbe559"
      },
      "execution_count": 3,
      "outputs": [
        {
          "output_type": "stream",
          "name": "stdout",
          "text": [
            "               criteria  weight ratingA ratingB scoreA scoreB\n",
            "0                  risk    0.10     NaN     NaN    NaN    NaN\n",
            "1                   ROI    0.15     NaN     NaN    NaN    NaN\n",
            "2  customerSatisfaction    0.30     NaN     NaN    NaN    NaN\n",
            "3           feasibility    0.15     NaN     NaN    NaN    NaN\n",
            "4    strategicAlignment    0.30     NaN     NaN    NaN    NaN\n"
          ]
        }
      ]
    },
    {
      "cell_type": "code",
      "source": [
        "# step 3: rate each alternative across all criteria\n",
        "# choose a scale: 1-5 or 1-7 or 1-10\n",
        "# higher number: an alternative is doing better regarding a given criterion\n",
        "\n",
        "AA['ratingA']=[4,1,2,1,5]\n",
        "AA['ratingB']=[3,4,2,3,2]\n",
        "\n",
        "# step 4: calculate partial scores by multiplying weight * ratings\n",
        "# using interrows is a bad idea - called an anti pattern\n",
        "for index, row in AA.iterrows():\n",
        "  AA['scoreA'][index]=row['ratingA']*row['weight']\n",
        "  AA['scoreB'][index]=row['ratingB']*row['weight']\n",
        "\n",
        "\n",
        "print(AA)"
      ],
      "metadata": {
        "colab": {
          "base_uri": "https://localhost:8080/"
        },
        "id": "s-qr7wrPAEW2",
        "outputId": "3c25b947-2c43-4ded-de92-07845fd5b266"
      },
      "execution_count": 6,
      "outputs": [
        {
          "output_type": "stream",
          "name": "stdout",
          "text": [
            "               criteria  weight  ratingA  ratingB scoreA scoreB\n",
            "0                  risk    0.10        4        3    0.4    0.3\n",
            "1                   ROI    0.15        1        4   0.15    0.6\n",
            "2  customerSatisfaction    0.30        2        2    0.6    0.6\n",
            "3           feasibility    0.15        1        3   0.15   0.45\n",
            "4    strategicAlignment    0.30        5        2    1.5    0.6\n"
          ]
        },
        {
          "output_type": "stream",
          "name": "stderr",
          "text": [
            "/usr/local/lib/python3.7/dist-packages/ipykernel_launcher.py:11: SettingWithCopyWarning: \n",
            "A value is trying to be set on a copy of a slice from a DataFrame\n",
            "\n",
            "See the caveats in the documentation: https://pandas.pydata.org/pandas-docs/stable/user_guide/indexing.html#returning-a-view-versus-a-copy\n",
            "  # This is added back by InteractiveShellApp.init_path()\n",
            "/usr/local/lib/python3.7/dist-packages/ipykernel_launcher.py:12: SettingWithCopyWarning: \n",
            "A value is trying to be set on a copy of a slice from a DataFrame\n",
            "\n",
            "See the caveats in the documentation: https://pandas.pydata.org/pandas-docs/stable/user_guide/indexing.html#returning-a-view-versus-a-copy\n",
            "  if sys.path[0] == '':\n"
          ]
        }
      ]
    },
    {
      "cell_type": "code",
      "source": [
        "# step 5: add partial scores to get the total scores\n",
        "# which solution is the winner? the one with the highest total score\n",
        "totalScoreA=0\n",
        "totalScoreB=0\n",
        "for index, row in AA.iterrows():\n",
        "  totalScoreA+=row['scoreA']\n",
        "  totalScoreB+=row['scoreB']\n",
        "\n",
        "print ('the total score for A is {:.2f} and for B is {:.2f}'.format(totalScoreA, totalScoreB))"
      ],
      "metadata": {
        "colab": {
          "base_uri": "https://localhost:8080/"
        },
        "id": "uJ67eWqlBy9T",
        "outputId": "24906c98-854e-4ecc-92ad-3e7104d72374"
      },
      "execution_count": 8,
      "outputs": [
        {
          "output_type": "stream",
          "name": "stdout",
          "text": [
            "the total score for A is 2.80 and for B is 2.55\n"
          ]
        }
      ]
    }
  ]
}